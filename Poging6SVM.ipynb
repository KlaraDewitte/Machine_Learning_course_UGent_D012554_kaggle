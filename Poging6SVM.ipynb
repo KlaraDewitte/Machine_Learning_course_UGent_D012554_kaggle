{
  "nbformat": 4,
  "nbformat_minor": 0,
  "metadata": {
    "colab": {
      "name": "Poging6SVM.ipynb",
      "provenance": [],
      "collapsed_sections": [],
      "authorship_tag": "ABX9TyMZX4dhwIShr6tWubqMbigu",
      "include_colab_link": true
    },
    "kernelspec": {
      "name": "python3",
      "display_name": "Python 3"
    }
  },
  "cells": [
    {
      "cell_type": "markdown",
      "metadata": {
        "id": "view-in-github",
        "colab_type": "text"
      },
      "source": [
        "<a href=\"https://colab.research.google.com/github/KlaraDewitte/Machine_Learning_course_UGent_D012554_kaggle/blob/master/Poging6SVM.ipynb\" target=\"_parent\"><img src=\"https://colab.research.google.com/assets/colab-badge.svg\" alt=\"Open In Colab\"/></a>"
      ]
    },
    {
      "cell_type": "code",
      "metadata": {
        "id": "vyEouHvcz1bD",
        "colab_type": "code",
        "outputId": "e7eeaeff-c3b1-404e-eb6b-9ed5ec3850b8",
        "colab": {
          "base_uri": "https://localhost:8080/",
          "height": 52
        }
      },
      "source": [
        "%matplotlib inline\n",
        "import pandas as pd\n",
        "import matplotlib.pyplot as plt\n",
        "import seaborn as sns\n",
        "from sklearn.preprocessing import StandardScaler"
      ],
      "execution_count": 0,
      "outputs": [
        {
          "output_type": "stream",
          "text": [
            "/usr/local/lib/python3.6/dist-packages/statsmodels/tools/_testing.py:19: FutureWarning: pandas.util.testing is deprecated. Use the functions in the public API at pandas.testing instead.\n",
            "  import pandas.util.testing as tm\n"
          ],
          "name": "stderr"
        }
      ]
    },
    {
      "cell_type": "code",
      "metadata": {
        "id": "frhm2v3Oz2c2",
        "colab_type": "code",
        "colab": {}
      },
      "source": [
        "trainset = pd.read_csv(\"https://raw.githubusercontent.com/sdgroeve/Machine_Learning_course_UGent_D012554_kaggle/master/eeg_train.csv\")\n",
        "\n",
        "testset = pd.read_csv(\"https://raw.githubusercontent.com/sdgroeve/Machine_Learning_course_UGent_D012554_kaggle/master/eeg_test.csv\")"
      ],
      "execution_count": 0,
      "outputs": []
    },
    {
      "cell_type": "code",
      "metadata": {
        "id": "_pN_JYvaz4yQ",
        "colab_type": "code",
        "colab": {}
      },
      "source": [
        "labels = trainset.pop('label')\n",
        "indices = testset.pop('index')"
      ],
      "execution_count": 0,
      "outputs": []
    },
    {
      "cell_type": "code",
      "metadata": {
        "id": "RCY3cgJgz43Y",
        "colab_type": "code",
        "colab": {}
      },
      "source": [
        "from sklearn.preprocessing import RobustScaler\n",
        "\n",
        "scaler = RobustScaler()\n",
        "scaler.fit(trainset)\n",
        "trainset_scaled = pd.DataFrame(scaler.transform(trainset))\n",
        "testset_scaled = pd.DataFrame(scaler.transform(testset))\n"
      ],
      "execution_count": 0,
      "outputs": []
    },
    {
      "cell_type": "code",
      "metadata": {
        "id": "gA06uYk2wri0",
        "colab_type": "code",
        "colab": {}
      },
      "source": [
        "from sklearn.svm import SVC\n",
        "from sklearn.model_selection import GridSearchCV\n",
        "import numpy as np\n",
        "from sklearn.model_selection import cross_val_score"
      ],
      "execution_count": 0,
      "outputs": []
    },
    {
      "cell_type": "code",
      "metadata": {
        "id": "55E8_M6nx55o",
        "colab_type": "code",
        "colab": {}
      },
      "source": [
        "X = trainset_scaled\n",
        "y = labels"
      ],
      "execution_count": 0,
      "outputs": []
    },
    {
      "cell_type": "code",
      "metadata": {
        "id": "FvrdrNwTYUqz",
        "colab_type": "code",
        "outputId": "73464765-1fd7-45ef-f78c-f6f2230d88ac",
        "colab": {
          "base_uri": "https://localhost:8080/",
          "height": 88
        }
      },
      "source": [
        "params_grid = {'C': [0.01, 0.1, 1, 10, 100, 1000],\n",
        "          'gamma': [0.01, 0.1, 1, 10],\n",
        "          'kernel':['linear', 'poly', 'rbf', 'sigmoid'] }\n",
        "\n",
        "\n",
        "grid_clf = GridSearchCV(SVC(class_weight='balanced'), params_grid)\n",
        "grid_clf.fit(X, y)\n",
        "\n",
        "print(grid_clf.best_estimator_)\n"
      ],
      "execution_count": 0,
      "outputs": [
        {
          "output_type": "stream",
          "text": [
            "SVC(C=10, break_ties=False, cache_size=200, class_weight='balanced', coef0=0.0,\n",
            "    decision_function_shape='ovr', degree=3, gamma=1, kernel='rbf', max_iter=-1,\n",
            "    probability=False, random_state=None, shrinking=True, tol=0.001,\n",
            "    verbose=False)\n"
          ],
          "name": "stdout"
        }
      ]
    },
    {
      "cell_type": "code",
      "metadata": {
        "id": "RBjHZxKkc7jB",
        "colab_type": "code",
        "outputId": "5805484f-dcfe-462c-e378-4c3e15ccbb36",
        "colab": {
          "base_uri": "https://localhost:8080/",
          "height": 35
        }
      },
      "source": [
        "clf=SVC(10, gamma=1, kernel='rbf')\n",
        "clf.fit(X,y)\n",
        "score_auc = np.mean(cross_val_score(clf,X,y,cv=10,scoring='roc_auc'))\n",
        "print(score_auc)"
      ],
      "execution_count": 0,
      "outputs": [
        {
          "output_type": "stream",
          "text": [
            "0.9624199847043885\n"
          ],
          "name": "stdout"
        }
      ]
    },
    {
      "cell_type": "code",
      "metadata": {
        "id": "8x62UEVl3i4p",
        "colab_type": "code",
        "outputId": "c75ae0a1-e99a-4dba-ea8e-79a9a08d3285",
        "colab": {
          "base_uri": "https://localhost:8080/",
          "height": 52
        }
      },
      "source": [
        "clf=SVC(C=100, gamma=0.1, kernel='rbf', probability=True)\n",
        "clf.fit(X,y)\n",
        "predictions = clf.predict_proba(testset_scaled)[:,1]\n",
        "print(predictions)"
      ],
      "execution_count": 0,
      "outputs": [
        {
          "output_type": "stream",
          "text": [
            "[2.03041906e-06 8.30271829e-01 5.47867048e-03 ... 9.99988970e-01\n",
            " 5.10189299e-01 1.99764899e-02]\n"
          ],
          "name": "stdout"
        }
      ]
    },
    {
      "cell_type": "code",
      "metadata": {
        "id": "yvNY_aN64qch",
        "colab_type": "code",
        "outputId": "d917b9dd-3a6e-41f6-dfd5-4ea86e2724ee",
        "colab": {
          "base_uri": "https://localhost:8080/",
          "height": 266
        }
      },
      "source": [
        "dfpredictions= pd.DataFrame(({'index': indices, 'label':predictions}))\n",
        "print(dfpredictions)"
      ],
      "execution_count": 0,
      "outputs": [
        {
          "output_type": "stream",
          "text": [
            "       index     label\n",
            "0          0  0.000002\n",
            "1          1  0.830272\n",
            "2          2  0.005479\n",
            "3          3  1.000000\n",
            "4          4  1.000000\n",
            "...      ...       ...\n",
            "12887  12887  0.072748\n",
            "12888  12888  0.999998\n",
            "12889  12889  0.999989\n",
            "12890  12890  0.510189\n",
            "12891  12891  0.019976\n",
            "\n",
            "[12892 rows x 2 columns]\n"
          ],
          "name": "stdout"
        }
      ]
    },
    {
      "cell_type": "code",
      "metadata": {
        "id": "6oID9h-T4xjH",
        "colab_type": "code",
        "colab": {}
      },
      "source": [
        "filename = \"my_prediction_results_Poging6SVM.csv\"\n",
        "\n",
        "#make sure to not write the Pandas index column (index=False)\n",
        "dfpredictions.to_csv(filename,index=False)"
      ],
      "execution_count": 0,
      "outputs": []
    }
  ]
}