{
  "nbformat": 4,
  "nbformat_minor": 0,
  "metadata": {
    "colab": {
      "name": "Poging2SVM.ipynb",
      "provenance": [],
      "collapsed_sections": [],
      "authorship_tag": "ABX9TyOWOPJexWOpkfCq6EoXKh/+",
      "include_colab_link": true
    },
    "kernelspec": {
      "name": "python3",
      "display_name": "Python 3"
    }
  },
  "cells": [
    {
      "cell_type": "markdown",
      "metadata": {
        "id": "view-in-github",
        "colab_type": "text"
      },
      "source": [
        "<a href=\"https://colab.research.google.com/github/KlaraDewitte/Machine_Learning_course_UGent_D012554_kaggle/blob/master/Poging2SVM.ipynb\" target=\"_parent\"><img src=\"https://colab.research.google.com/assets/colab-badge.svg\" alt=\"Open In Colab\"/></a>"
      ]
    },
    {
      "cell_type": "code",
      "metadata": {
        "id": "vyEouHvcz1bD",
        "colab_type": "code",
        "outputId": "74ea99e8-db0a-483a-a607-f2b19b3f82e4",
        "colab": {
          "base_uri": "https://localhost:8080/",
          "height": 72
        }
      },
      "source": [
        "%matplotlib inline\n",
        "import pandas as pd\n",
        "import matplotlib.pyplot as plt\n",
        "import seaborn as sns\n",
        "from sklearn.preprocessing import StandardScaler"
      ],
      "execution_count": 1,
      "outputs": [
        {
          "output_type": "stream",
          "text": [
            "/usr/local/lib/python3.6/dist-packages/statsmodels/tools/_testing.py:19: FutureWarning: pandas.util.testing is deprecated. Use the functions in the public API at pandas.testing instead.\n",
            "  import pandas.util.testing as tm\n"
          ],
          "name": "stderr"
        }
      ]
    },
    {
      "cell_type": "code",
      "metadata": {
        "id": "frhm2v3Oz2c2",
        "colab_type": "code",
        "colab": {}
      },
      "source": [
        "trainset = pd.read_csv(\"https://raw.githubusercontent.com/sdgroeve/Machine_Learning_course_UGent_D012554_kaggle/master/eeg_train.csv\")\n",
        "\n",
        "testset = pd.read_csv(\"https://raw.githubusercontent.com/sdgroeve/Machine_Learning_course_UGent_D012554_kaggle/master/eeg_test.csv\")"
      ],
      "execution_count": 0,
      "outputs": []
    },
    {
      "cell_type": "code",
      "metadata": {
        "id": "_pN_JYvaz4yQ",
        "colab_type": "code",
        "colab": {}
      },
      "source": [
        "labels = trainset.pop('label')\n",
        "indices = testset.pop('index')"
      ],
      "execution_count": 0,
      "outputs": []
    },
    {
      "cell_type": "code",
      "metadata": {
        "id": "RCY3cgJgz43Y",
        "colab_type": "code",
        "colab": {}
      },
      "source": [
        "from sklearn.preprocessing import StandardScaler\n",
        "\n",
        "Scaler = StandardScaler()\n",
        "Scaler.fit(trainset)\n",
        "\n",
        "trainset_scaled = pd.DataFrame(Scaler.transform(trainset))\n",
        "\n",
        "testset_scaled= pd.DataFrame(Scaler.transform(testset))\n",
        "\n"
      ],
      "execution_count": 0,
      "outputs": []
    },
    {
      "cell_type": "code",
      "metadata": {
        "id": "gA06uYk2wri0",
        "colab_type": "code",
        "colab": {}
      },
      "source": [
        "from sklearn.svm import SVC\n",
        "from sklearn.model_selection import GridSearchCV\n",
        "import numpy as np\n",
        "from sklearn.model_selection import cross_val_score"
      ],
      "execution_count": 0,
      "outputs": []
    },
    {
      "cell_type": "code",
      "metadata": {
        "id": "55E8_M6nx55o",
        "colab_type": "code",
        "colab": {}
      },
      "source": [
        "X = trainset_scaled\n",
        "y = labels"
      ],
      "execution_count": 0,
      "outputs": []
    },
    {
      "cell_type": "code",
      "metadata": {
        "id": "UH9dqEryw3oj",
        "colab_type": "code",
        "colab": {
          "base_uri": "https://localhost:8080/",
          "height": 230
        },
        "outputId": "0725101f-7d55-487a-d381-2a33f5669e84"
      },
      "source": [
        "OptiC = 0\n",
        "Possibilities = ['linear', 'poly', 'rbf', 'sigmoid']\n",
        "search_space = [0.01,0.1,1,10,100, 1000]\n",
        "params = dict(C=search_space)\n",
        "\n",
        "for pos in Possibilities:\n",
        "  print(pos)\n",
        "\n",
        "  clf=SVC(kernel=pos)\n",
        "  grid_search = GridSearchCV(clf, param_grid=params)\n",
        "  grid_search.fit(X, y)\n",
        "\n",
        "  OptiC=grid_search.best_estimator_.C\n",
        "  print('Optimale C =' + str(OptiC))\n",
        "\n",
        "  clf=SVC(OptiC, kernel=pos)\n",
        "  clf.fit(X,y)\n",
        "\n",
        "  score_auc = np.mean(cross_val_score(clf,X,y,cv=10,scoring='roc_auc'))\n",
        "\n",
        "  print('auc=' + str(score_auc))\n"
      ],
      "execution_count": 10,
      "outputs": [
        {
          "output_type": "stream",
          "text": [
            "linear\n",
            "Optimale C =1\n",
            "auc=0.6744776630097732\n",
            "poly\n",
            "Optimale C =1000\n",
            "auc=0.9142904119326138\n",
            "rbf\n",
            "Optimale C =100\n",
            "auc=0.9605496725496728\n",
            "sigmoid\n",
            "Optimale C =0.01\n",
            "auc=0.6115343209288163\n"
          ],
          "name": "stdout"
        }
      ]
    },
    {
      "cell_type": "code",
      "metadata": {
        "id": "8x62UEVl3i4p",
        "colab_type": "code",
        "colab": {
          "base_uri": "https://localhost:8080/",
          "height": 52
        },
        "outputId": "cbfa733a-5105-4737-a218-8daf25576075"
      },
      "source": [
        "clf=SVC(C=100, kernel='rbf', probability=True)\n",
        "clf.fit(X,y)\n",
        "predictions = clf.predict_proba(testset_scaled)[:,1]\n",
        "print(predictions)"
      ],
      "execution_count": 9,
      "outputs": [
        {
          "output_type": "stream",
          "text": [
            "[7.13874942e-06 7.72867001e-01 4.89700430e-03 ... 9.95681929e-01\n",
            " 7.18506648e-01 3.22125870e-02]\n"
          ],
          "name": "stdout"
        }
      ]
    },
    {
      "cell_type": "code",
      "metadata": {
        "id": "yvNY_aN64qch",
        "colab_type": "code",
        "colab": {
          "base_uri": "https://localhost:8080/",
          "height": 266
        },
        "outputId": "bdee0067-2f97-4eb9-e9f0-b72a6a3e8231"
      },
      "source": [
        "dfpredictions= pd.DataFrame(({'index': indices, 'label':predictions}))\n",
        "print(dfpredictions)"
      ],
      "execution_count": 11,
      "outputs": [
        {
          "output_type": "stream",
          "text": [
            "       index     label\n",
            "0          0  0.000007\n",
            "1          1  0.772867\n",
            "2          2  0.004897\n",
            "3          3  0.999993\n",
            "4          4  1.000000\n",
            "...      ...       ...\n",
            "12887  12887  0.091558\n",
            "12888  12888  0.999994\n",
            "12889  12889  0.995682\n",
            "12890  12890  0.718507\n",
            "12891  12891  0.032213\n",
            "\n",
            "[12892 rows x 2 columns]\n"
          ],
          "name": "stdout"
        }
      ]
    },
    {
      "cell_type": "code",
      "metadata": {
        "id": "6oID9h-T4xjH",
        "colab_type": "code",
        "colab": {}
      },
      "source": [
        "filename = \"my_prediction_results_Poging2SVM.csv\"\n",
        "\n",
        "#make sure to not write the Pandas index column (index=False)\n",
        "dfpredictions.to_csv(filename,index=False)"
      ],
      "execution_count": 0,
      "outputs": []
    }
  ]
}