{
  "nbformat": 4,
  "nbformat_minor": 0,
  "metadata": {
    "colab": {
      "name": "Poging5 RandomForrest.ipynb",
      "provenance": [],
      "authorship_tag": "ABX9TyMzOSKWKtJpVjAUbod66js0",
      "include_colab_link": true
    },
    "kernelspec": {
      "name": "python3",
      "display_name": "Python 3"
    }
  },
  "cells": [
    {
      "cell_type": "markdown",
      "metadata": {
        "id": "view-in-github",
        "colab_type": "text"
      },
      "source": [
        "<a href=\"https://colab.research.google.com/github/KlaraDewitte/Machine_Learning_course_UGent_D012554_kaggle/blob/master/Poging5_RandomForrest.ipynb\" target=\"_parent\"><img src=\"https://colab.research.google.com/assets/colab-badge.svg\" alt=\"Open In Colab\"/></a>"
      ]
    },
    {
      "cell_type": "code",
      "metadata": {
        "id": "rTtrMCnOayos",
        "colab_type": "code",
        "colab": {}
      },
      "source": [
        "%matplotlib inline\n",
        "import pandas as pd\n",
        "import matplotlib.pyplot as plt\n",
        "import seaborn as sns\n",
        "from sklearn.preprocessing import StandardScaler"
      ],
      "execution_count": 0,
      "outputs": []
    },
    {
      "cell_type": "code",
      "metadata": {
        "id": "9GItJGlsa20r",
        "colab_type": "code",
        "colab": {}
      },
      "source": [
        "trainset = pd.read_csv(\"https://raw.githubusercontent.com/sdgroeve/Machine_Learning_course_UGent_D012554_kaggle/master/eeg_train.csv\")\n",
        "\n",
        "testset = pd.read_csv(\"https://raw.githubusercontent.com/sdgroeve/Machine_Learning_course_UGent_D012554_kaggle/master/eeg_test.csv\")"
      ],
      "execution_count": 0,
      "outputs": []
    },
    {
      "cell_type": "code",
      "metadata": {
        "id": "DDjxs-oYa4Cb",
        "colab_type": "code",
        "colab": {}
      },
      "source": [
        "labels = trainset.pop('label')\n",
        "indices = testset.pop('index')"
      ],
      "execution_count": 0,
      "outputs": []
    },
    {
      "cell_type": "code",
      "metadata": {
        "id": "OJjKrZ5na6Ax",
        "colab_type": "code",
        "colab": {}
      },
      "source": [
        "from sklearn.preprocessing import StandardScaler\n",
        "\n",
        "Scaler = StandardScaler()\n",
        "Scaler.fit(trainset)\n",
        "\n",
        "trainset_scaled = pd.DataFrame(Scaler.transform(trainset))\n",
        "\n",
        "testset_scaled= pd.DataFrame(Scaler.transform(testset))"
      ],
      "execution_count": 0,
      "outputs": []
    },
    {
      "cell_type": "code",
      "metadata": {
        "id": "s6NI8HZ4a8xO",
        "colab_type": "code",
        "colab": {}
      },
      "source": [
        "from sklearn.model_selection import GridSearchCV\n",
        "import numpy as np\n",
        "from sklearn.model_selection import cross_val_score"
      ],
      "execution_count": 0,
      "outputs": []
    },
    {
      "cell_type": "code",
      "metadata": {
        "id": "QVYf0UzMa-TD",
        "colab_type": "code",
        "colab": {}
      },
      "source": [
        "X = trainset_scaled\n",
        "y = labels"
      ],
      "execution_count": 0,
      "outputs": []
    },
    {
      "cell_type": "code",
      "metadata": {
        "id": "K4e1HKoXe2Bm",
        "colab_type": "code",
        "colab": {
          "base_uri": "https://localhost:8080/",
          "height": 159
        },
        "outputId": "512a7889-ac53-46ef-dd08-d2def9d815c8"
      },
      "source": [
        "from sklearn.model_selection import GridSearchCV, cross_val_predict\n",
        "from sklearn import metrics\n",
        "from sklearn.ensemble import RandomForestClassifier\n",
        "\n",
        "params_grid = {'n_estimators':[50,60,70,80], 'max_features':range(1,15)}\n",
        "model = RandomForestClassifier()\n",
        "\n",
        "grid_model = GridSearchCV(model, params_grid, cv=10,  n_jobs = -1)\n",
        "grid_model.fit(X, y)\n",
        "\n",
        "print(grid_model.best_estimator_)"
      ],
      "execution_count": 50,
      "outputs": [
        {
          "output_type": "stream",
          "text": [
            "RandomForestClassifier(bootstrap=True, ccp_alpha=0.0, class_weight=None,\n",
            "                       criterion='gini', max_depth=None, max_features=4,\n",
            "                       max_leaf_nodes=None, max_samples=None,\n",
            "                       min_impurity_decrease=0.0, min_impurity_split=None,\n",
            "                       min_samples_leaf=1, min_samples_split=2,\n",
            "                       min_weight_fraction_leaf=0.0, n_estimators=80,\n",
            "                       n_jobs=None, oob_score=False, random_state=None,\n",
            "                       verbose=0, warm_start=False)\n"
          ],
          "name": "stdout"
        }
      ]
    },
    {
      "cell_type": "code",
      "metadata": {
        "id": "Tgd6ePA6d_kQ",
        "colab_type": "code",
        "colab": {
          "base_uri": "https://localhost:8080/",
          "height": 35
        },
        "outputId": "8f7f7e06-bc66-47c9-bf8d-d868312d5553"
      },
      "source": [
        "model=grid_model.best_estimator_\n",
        "\n",
        "model.fit(X,y)\n",
        "score_auc = np.mean(cross_val_score(model,X,y,scoring='roc_auc'))\n",
        "print(score_auc)\n"
      ],
      "execution_count": 51,
      "outputs": [
        {
          "output_type": "stream",
          "text": [
            "0.9218667665071207\n"
          ],
          "name": "stdout"
        }
      ]
    },
    {
      "cell_type": "code",
      "metadata": {
        "id": "LSES6culwzRZ",
        "colab_type": "code",
        "colab": {
          "base_uri": "https://localhost:8080/",
          "height": 35
        },
        "outputId": "38635c24-db50-48ee-a28c-3f6341a73eed"
      },
      "source": [
        "predictions = model.predict_proba(testset_scaled)[:,1]\n",
        "print(predictions)"
      ],
      "execution_count": 52,
      "outputs": [
        {
          "output_type": "stream",
          "text": [
            "[0.15   0.35   0.1    ... 0.9125 0.825  0.175 ]\n"
          ],
          "name": "stdout"
        }
      ]
    },
    {
      "cell_type": "code",
      "metadata": {
        "id": "oxl7StDQw40K",
        "colab_type": "code",
        "colab": {
          "base_uri": "https://localhost:8080/",
          "height": 266
        },
        "outputId": "fd24429b-8675-4aa3-e024-2fbb675ae748"
      },
      "source": [
        "dfpredictions= pd.DataFrame(({'index': indices, 'label':predictions}))\n",
        "print(dfpredictions)"
      ],
      "execution_count": 53,
      "outputs": [
        {
          "output_type": "stream",
          "text": [
            "       index   label\n",
            "0          0  0.1500\n",
            "1          1  0.3500\n",
            "2          2  0.1000\n",
            "3          3  0.9750\n",
            "4          4  0.8625\n",
            "...      ...     ...\n",
            "12887  12887  0.6125\n",
            "12888  12888  0.6875\n",
            "12889  12889  0.9125\n",
            "12890  12890  0.8250\n",
            "12891  12891  0.1750\n",
            "\n",
            "[12892 rows x 2 columns]\n"
          ],
          "name": "stdout"
        }
      ]
    },
    {
      "cell_type": "code",
      "metadata": {
        "id": "jpfY3Yxsw78_",
        "colab_type": "code",
        "colab": {}
      },
      "source": [
        "filename = \"my_prediction_results_Poging5RandomForrest.csv\"\n",
        "\n",
        "#make sure to not write the Pandas index column (index=False)\n",
        "dfpredictions.to_csv(filename,index=False)"
      ],
      "execution_count": 0,
      "outputs": []
    }
  ]
}