{
  "nbformat": 4,
  "nbformat_minor": 0,
  "metadata": {
    "colab": {
      "name": "Copy of Poging3SVM.ipynb",
      "provenance": [],
      "collapsed_sections": [],
      "authorship_tag": "ABX9TyPAw/81WTYyAnwm2H5evLGw",
      "include_colab_link": true
    },
    "kernelspec": {
      "name": "python3",
      "display_name": "Python 3"
    }
  },
  "cells": [
    {
      "cell_type": "markdown",
      "metadata": {
        "id": "view-in-github",
        "colab_type": "text"
      },
      "source": [
        "<a href=\"https://colab.research.google.com/github/KlaraDewitte/Machine_Learning_course_UGent_D012554_kaggle/blob/master/Copy_of_Poging3SVM.ipynb\" target=\"_parent\"><img src=\"https://colab.research.google.com/assets/colab-badge.svg\" alt=\"Open In Colab\"/></a>"
      ]
    },
    {
      "cell_type": "code",
      "metadata": {
        "id": "vyEouHvcz1bD",
        "colab_type": "code",
        "outputId": "13559ae7-3ca6-478f-8f12-42eb98bc4748",
        "colab": {
          "base_uri": "https://localhost:8080/",
          "height": 52
        }
      },
      "source": [
        "%matplotlib inline\n",
        "import pandas as pd\n",
        "import matplotlib.pyplot as plt\n",
        "import seaborn as sns\n",
        "from sklearn.preprocessing import StandardScaler"
      ],
      "execution_count": 1,
      "outputs": [
        {
          "output_type": "stream",
          "text": [
            "/usr/local/lib/python3.6/dist-packages/statsmodels/tools/_testing.py:19: FutureWarning: pandas.util.testing is deprecated. Use the functions in the public API at pandas.testing instead.\n",
            "  import pandas.util.testing as tm\n"
          ],
          "name": "stderr"
        }
      ]
    },
    {
      "cell_type": "code",
      "metadata": {
        "id": "frhm2v3Oz2c2",
        "colab_type": "code",
        "colab": {}
      },
      "source": [
        "trainset = pd.read_csv(\"https://raw.githubusercontent.com/sdgroeve/Machine_Learning_course_UGent_D012554_kaggle/master/eeg_train.csv\")\n",
        "\n",
        "testset = pd.read_csv(\"https://raw.githubusercontent.com/sdgroeve/Machine_Learning_course_UGent_D012554_kaggle/master/eeg_test.csv\")"
      ],
      "execution_count": 0,
      "outputs": []
    },
    {
      "cell_type": "code",
      "metadata": {
        "id": "_pN_JYvaz4yQ",
        "colab_type": "code",
        "colab": {}
      },
      "source": [
        "labels = trainset.pop('label')\n",
        "indices = testset.pop('index')"
      ],
      "execution_count": 0,
      "outputs": []
    },
    {
      "cell_type": "code",
      "metadata": {
        "id": "RCY3cgJgz43Y",
        "colab_type": "code",
        "colab": {}
      },
      "source": [
        "from sklearn.preprocessing import RobustScaler\n",
        "\n",
        "scaler = RobustScaler()\n",
        "scaler.fit(trainset)\n",
        "trainset_scaled = pd.DataFrame(scaler.transform(trainset))\n",
        "testset_scaled = pd.DataFrame(scaler.transform(testset))\n"
      ],
      "execution_count": 0,
      "outputs": []
    },
    {
      "cell_type": "code",
      "metadata": {
        "id": "gA06uYk2wri0",
        "colab_type": "code",
        "colab": {}
      },
      "source": [
        "from sklearn.svm import SVC\n",
        "from sklearn.model_selection import GridSearchCV\n",
        "import numpy as np\n",
        "from sklearn.model_selection import cross_val_score"
      ],
      "execution_count": 0,
      "outputs": []
    },
    {
      "cell_type": "code",
      "metadata": {
        "id": "55E8_M6nx55o",
        "colab_type": "code",
        "colab": {}
      },
      "source": [
        "X = trainset_scaled\n",
        "y = labels"
      ],
      "execution_count": 0,
      "outputs": []
    },
    {
      "cell_type": "code",
      "metadata": {
        "id": "UH9dqEryw3oj",
        "colab_type": "code",
        "outputId": "64ce6957-93ae-4f9e-fd69-e25aaea873b2",
        "colab": {
          "base_uri": "https://localhost:8080/",
          "height": 230
        }
      },
      "source": [
        "OptiC = 0\n",
        "Possibilities = ['linear', 'poly', 'rbf', 'sigmoid']\n",
        "search_space = [0.01,0.1,1,10,100, 1000]\n",
        "params = dict(C=search_space)\n",
        "\n",
        "for pos in Possibilities:\n",
        "  print(pos)\n",
        "\n",
        "  clf=SVC(kernel=pos)\n",
        "  grid_search = GridSearchCV(clf, param_grid=params)\n",
        "  grid_search.fit(X, y)\n",
        "\n",
        "  OptiC=grid_search.best_estimator_.C\n",
        "  print('Optimale C =' + str(OptiC))\n",
        "\n",
        "  clf=SVC(OptiC, kernel=pos)\n",
        "  clf.fit(X,y)\n",
        "\n",
        "  score_auc = np.mean(cross_val_score(clf,X,y,cv=10,scoring='roc_auc'))\n",
        "\n",
        "  print('auc=' + str(score_auc))\n"
      ],
      "execution_count": 7,
      "outputs": [
        {
          "output_type": "stream",
          "text": [
            "linear\n",
            "Optimale C =1\n",
            "auc=0.67434634987846\n",
            "poly\n",
            "Optimale C =1000\n",
            "auc=0.9174034579080452\n",
            "rbf\n",
            "Optimale C =100\n",
            "auc=0.9593785551858949\n",
            "sigmoid\n",
            "Optimale C =0.01\n",
            "auc=0.5926152053858476\n"
          ],
          "name": "stdout"
        }
      ]
    },
    {
      "cell_type": "code",
      "metadata": {
        "id": "8x62UEVl3i4p",
        "colab_type": "code",
        "outputId": "909c192f-a7c8-4552-c205-b3c24630e4b1",
        "colab": {
          "base_uri": "https://localhost:8080/",
          "height": 52
        }
      },
      "source": [
        "clf=SVC(C=100, kernel='rbf', probability=True)\n",
        "clf.fit(X,y)\n",
        "predictions = clf.predict_proba(testset_scaled)[:,1]\n",
        "print(predictions)"
      ],
      "execution_count": 8,
      "outputs": [
        {
          "output_type": "stream",
          "text": [
            "[3.06957080e-05 7.21717299e-01 4.93875338e-03 ... 9.83058489e-01\n",
            " 5.55908771e-01 1.45349844e-02]\n"
          ],
          "name": "stdout"
        }
      ]
    },
    {
      "cell_type": "code",
      "metadata": {
        "id": "yvNY_aN64qch",
        "colab_type": "code",
        "outputId": "58d8090a-1836-49da-e4ff-3faf58ac5bce",
        "colab": {
          "base_uri": "https://localhost:8080/",
          "height": 266
        }
      },
      "source": [
        "dfpredictions= pd.DataFrame(({'index': indices, 'label':predictions}))\n",
        "print(dfpredictions)"
      ],
      "execution_count": 9,
      "outputs": [
        {
          "output_type": "stream",
          "text": [
            "       index     label\n",
            "0          0  0.000031\n",
            "1          1  0.721717\n",
            "2          2  0.004939\n",
            "3          3  0.989246\n",
            "4          4  1.000000\n",
            "...      ...       ...\n",
            "12887  12887  0.066238\n",
            "12888  12888  0.999986\n",
            "12889  12889  0.983058\n",
            "12890  12890  0.555909\n",
            "12891  12891  0.014535\n",
            "\n",
            "[12892 rows x 2 columns]\n"
          ],
          "name": "stdout"
        }
      ]
    },
    {
      "cell_type": "code",
      "metadata": {
        "id": "6oID9h-T4xjH",
        "colab_type": "code",
        "colab": {}
      },
      "source": [
        "filename = \"my_prediction_results_Poging3SVM.csv\"\n",
        "\n",
        "#make sure to not write the Pandas index column (index=False)\n",
        "dfpredictions.to_csv(filename,index=False)"
      ],
      "execution_count": 0,
      "outputs": []
    }
  ]
}